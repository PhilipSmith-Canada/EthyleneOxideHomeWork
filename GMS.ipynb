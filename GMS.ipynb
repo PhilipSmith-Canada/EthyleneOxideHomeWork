{
 "cells": [
  {
   "cell_type": "markdown",
   "metadata": {},
   "source": [
    "CHEN 6603....GMS implicit solve......................this script was created by PJS - summer 2018  \n",
    "  \n",
    " This script will compute the diffusive flux (J) from the Generalized Maxwell Stefan Equations given the appropriate inputs as defined in the function def:\n",
    " "
   ]
  },
  {
   "cell_type": "code",
   "execution_count": null,
   "metadata": {},
   "outputs": [],
   "source": [
    "import numpy as np"
   ]
  },
  {
   "cell_type": "code",
   "execution_count": 2,
   "metadata": {},
   "outputs": [],
   "source": [
    "def GMSres(J, d, x, c, Đ):\n",
    "    \"\"\"\n",
    "    Compute the residual in the GMS equation from a guess for J\n",
    "    \n",
    "    Args:\n",
    "    J:  (array 2-D)\n",
    "        (n x n) initial guess for mass/molar diffusive flux\n",
    "    d: (array 1-D)\n",
    "        driving force (n vector)\n",
    "    x: (array 1-D)\n",
    "        mass/mole fractions (n vector)\n",
    "    c: (scalar)\n",
    "        mass/mole concentration\n",
    "    Đ: (array 2-D)\n",
    "        GMS diffusivities (n x n)\n",
    "    Returns:\n",
    "    resid:  (array 1-D)\n",
    "        (n) residual in GMS equation\n",
    "    \"\"\"\n",
    "    resid = d - np.sum((np.outer(x, J) - np.outer(J, x)) / (c * Đ), axis=1)\n",
    "    resid[-1] = 0 - np.sum(J)\n",
    "    return resid"
   ]
  },
  {
   "cell_type": "markdown",
   "metadata": {},
   "source": [
    "The End"
   ]
  }
 ],
 "metadata": {
  "kernelspec": {
   "display_name": "Python 3 (ipykernel)",
   "language": "python",
   "name": "python3"
  },
  "language_info": {
   "codemirror_mode": {
    "name": "ipython",
    "version": 3
   },
   "file_extension": ".py",
   "mimetype": "text/x-python",
   "name": "python",
   "nbconvert_exporter": "python",
   "pygments_lexer": "ipython3",
   "version": "3.7.10"
  }
 },
 "nbformat": 4,
 "nbformat_minor": 4
}
