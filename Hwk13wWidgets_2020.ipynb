{
 "cells": [
  {
   "cell_type": "markdown",
   "metadata": {},
   "source": [
    "CHEN 6603....Homework Set #12\n",
    "  .........................this script was created by PJS - fall 2019  \n",
    "  \n",
    " This script will compute the production rate of ethylene oxide ($\\text{C}_2\\text{H}_4\\text{O}$) from the direct oxidation of ethylene ($\\text{C}_2\\text{H}_4$) with competing oxidation reactions over a silver catalyst (Theodore Lefort) in a plug flow reactor. This uses thin film approximation (method 2).\n",
    "\n",
    "Note: The key concepts needed to get the right answer and full credit, is the proper bootstrap (fixed flux ratios according to the given stoichiometry for all reactants and products, and zero flux for the inert) and recognizing that the concentration at the catalyst surface is unknown. It is obtained by determining that the molar flux from mass transfer and reaction are equal. The concentration of the one reamaining component comes from the sum of the mole fractions being one. \n",
    "\n",
    "Begin by importing some functions:"
   ]
  },
  {
   "cell_type": "code",
   "execution_count": 1,
   "metadata": {},
   "outputs": [],
   "source": [
    "%matplotlib inline\n",
    "\n",
    "import warnings\n",
    "warnings.filterwarnings(\"ignore\")\n",
    "import numpy as np\n",
    "from scipy.optimize import fsolve\n",
    "from IPython.display import set_matplotlib_formats\n",
    "set_matplotlib_formats('retina')    # if on a MacBook Pro\n",
    "import matplotlib.pyplot as plt\n",
    "from ipynb.fs.defs.GMS import GMSres\n",
    "from ipywidgets import interact, FloatSlider, FloatLogSlider, Layout"
   ]
  },
  {
   "cell_type": "markdown",
   "metadata": {},
   "source": [
    "1$^{\\text{st}}$  define the system inputs: "
   ]
  },
  {
   "cell_type": "code",
   "execution_count": 2,
   "metadata": {},
   "outputs": [
    {
     "name": "stdout",
     "output_type": "stream",
     "text": [
      "Superficial velocity, m/s: 2.47077042496349\n",
      "Table entries for correlation: 308.84630312043623 0.683 0.466\n",
      "SA/V of catalyst, 1/m: 102.7446345237056\n",
      "Pore diameter over lenght 0.004\n"
     ]
    }
   ],
   "source": [
    "ns         = 6                      # number of species\n",
    "lreactor   = 12.8                    # reactor length, m\n",
    "nl         = 300                    # number of reactor cells\n",
    "dl         = lreactor / nl          # distance (m) for each spatial step\n",
    "spec_names = ['N$_2$', 'O$_2$', 'C$_2$H$_4$', 'C$_2$H$_4$O', 'CO$_2$', 'H$_2$O']\n",
    "M          = np.array([28, 32, 28, 44, 44, 18])               # vector of mole wts\n",
    "V          = np.array([18.5, 16.3, 41, 46.5, 26.9, 13.1])     # vector of diffusion volumes\n",
    "xin        = [1274/1446, 91.5/1446, 80.5/1446, 0, 0, 0]       # reactor inlet mol frac\n",
    "L          = 5e-3                   # characteristic length for correlation, m\n",
    "T          = 228 + 273.15           # temperature, K\n",
    "P          = 2 * 101325             # pressure, Pa\n",
    "k1oi       = 8.63                   # nominal reaction rate constant for reaction 1\n",
    "k2oi       = 5.67                   # nominal reaction rate constant for reaction 2\n",
    "ν          = 4e-5                   # kinematic viscosity, m^2/s\n",
    "R          = 8.3144598              # ideal gas constant, m^3,Pa,K,mol\n",
    "α          = 1.013e-2               # constant for Fuller equation\n",
    "C          = 0.683                  # constant for equation 2\n",
    "m          = 0.466                  # constant for equation 2\n",
    "dpore      = 4e-6                  # diameter of the pores, m\n",
    "lpore      = 1e-3                   # characteristic pore length\n",
    "pore_dol   = dpore / lpore\n",
    "c          = P / (R * T)            # total concentration of mixture, mol/m^3\n",
    "v          = 1446 * 1000 / 3600 / c / (np.pi * (.03912/2)**2 * 2781)           # superficial velocity, m/s\n",
    "Re         = v * L / ν              # Reynolds Number\n",
    "a          = 4396/(lreactor * np.pi * (.03912/2)**2 * 2781)                    # surface area to volume ratio of catalyst, 1/m\n",
    "print('Superficial velocity, m/s:', v)\n",
    "print('Table entries for correlation:', Re, C, m)\n",
    "print('SA/V of catalyst, 1/m:', a)\n",
    "print('Pore diameter over lenght', pore_dol)"
   ]
  },
  {
   "cell_type": "markdown",
   "metadata": {},
   "source": [
    "Now define the needed arrays and inlet conditions"
   ]
  },
  {
   "cell_type": "code",
   "execution_count": 3,
   "metadata": {},
   "outputs": [
    {
     "name": "stdout",
     "output_type": "stream",
     "text": [
      " initial reactor flux is  120.16478942171939  mol/m^2/s: \n"
     ]
    }
   ],
   "source": [
    "Đ  = np.empty((ns, ns))\n",
    "kc = np.empty((ns, ns))\n",
    "Sc = np.empty((ns, ns))\n",
    "Sh = np.empty((ns, ns))\n",
    "x0 = np.empty((ns))\n",
    "xδ = np.empty((ns))\n",
    "xf = np.empty((ns))\n",
    "J  = np.zeros((ns))\n",
    "N  = np.zeros((ns))\n",
    "km = np.empty(ns)\n",
    "\n",
    "unknowns       = np.empty(ns+ns-1)\n",
    "answers        = np.empty(ns+1)\n",
    "distance       = np.linspace(0, lreactor, nl+1)\n",
    "xreactor       = np.zeros((ns, nl+1))  # reactor concentrations (mol frac)\n",
    "x0reactor      = np.zeros((ns, nl+1))  # catalyst surface concentration (mol frac)\n",
    "flxreactor     = np.zeros((ns, nl+1))  # flux of each component down the reactor\n",
    "tflxreactor    = np.zeros(nl+1)        # total flux down length of reactor\n",
    "effectiveness  = np.empty(nl+1)        # effectiveness factor down the reactor\n",
    "selectivity    = np.empty(nl+1)        # selectivity down the reactor\n",
    "yldreactor     = np.empty(nl+1)        # reactor yield\n",
    "Jreactor       = np.zeros((ns, nl+1))  # diffusive flux from surface\n",
    "Nreactor       = np.zeros((ns, nl+1))  # total flux from surface\n",
    "xreactor[:, 0] = xin\n",
    "flxreactor     = xreactor[:, :] * v * c\n",
    "tflxreactor[0] = np.sum(flxreactor[0:ns-1, 0])\n",
    "x0[:]          = [.88, .05, .04, .01, .01, .01]               # initial guess...solved below\n",
    "N[:]           = [0, -.01, -.01, .005, .005, .005]            # initial guess...solved below\n",
    "print(' initial reactor flux is ', tflxreactor[0], ' mol/m^2/s: ')"
   ]
  },
  {
   "cell_type": "markdown",
   "metadata": {},
   "source": [
    "Next define the Nonlinear function for the residuals"
   ]
  },
  {
   "cell_type": "code",
   "execution_count": 4,
   "metadata": {},
   "outputs": [],
   "source": [
    "def Res(unknowns, xδ, c, a, kc, km, k1o, k2o):\n",
    "    global J, effect, select\n",
    "    # first defined needed variables\n",
    "    resid = np.empty(ns+ns-1)\n",
    "    N     = unknowns[:ns]\n",
    "    x0    = [1-sum(unknowns[ns:]), unknowns[ns], unknowns[ns+1], unknowns[ns+2], unknowns[ns+3], unknowns[ns+4]]   # this and the J definitions below define the bootstrap\n",
    "    x     = (x0[:] + xδ[:]) / 2         # get average composition for the flux\n",
    "    d     = (xδ[:] - x0[:])             # obtain ns driving forces\n",
    "    J     = N  - x * sum(N[:])\n",
    "    # the reaction\n",
    "    k1   = k1o * 1e7 * 1e6\n",
    "    k2   = k2o * 1e7 * 1e6\n",
    "    c1_0 = x0[2] * c / 1e6\n",
    "    c2_0 = x0[1] * c / 1e6\n",
    "    F1_0 = (0.0106 + 2144 * c1_0 + 805 * c2_0) * (1 + 1271 * np.sqrt(c2_0))\n",
    "    F2_0 = (0.008 + 4166 * c1_0 + 1578 * c2_0) * (1 + 718 * np.sqrt(c2_0))\n",
    "    r1_0 =  k1 / a * c1_0 * c2_0**2 / F1_0**2\n",
    "    r2_0 =  k2 / a * c1_0 * c2_0**2 / F2_0**2\n",
    "    c1_δ = xδ[2] * c / 1e6\n",
    "    c2_δ = xδ[1] * c / 1e6\n",
    "    F1_δ = (0.0106 + 2144 * c1_δ + 805 * c2_δ) * (1 + 1271 * np.sqrt(c2_δ))\n",
    "    F2_δ = (0.008 + 4166 * c1_δ + 1578 * c2_δ) * (1 + 718 * np.sqrt(c2_δ))\n",
    "    r1_δ = k1 / a * c1_δ * c2_δ**2 / F1_δ**2\n",
    "    r2_δ = k2 / a * c1_δ * c2_δ**2 / F2_δ**2    \n",
    "    effect = (r1_0 + r2_0) / (r1_δ + r2_δ)\n",
    "    select = r1_0 / (r1_0 + r2_0)\n",
    "    # and here are the constraints in residual form starting with the GMS equations\n",
    "    resid[:ns]  = d - np.sum((np.outer(x, J) - np.outer(J, x)) / (c * kc), axis=1) + N/(c * km)\n",
    "    resid[ns]   = N[1] + (0.5 * r1_0 + 3 * r2_0)          # mass fluxes have to match reaction rates\n",
    "    resid[ns+1] = N[2] + (r1_0 + r2_0)\n",
    "    resid[ns+2] = N[3] - r1_0\n",
    "    resid[ns+3] = N[4] - 2 * r2_0\n",
    "    resid[ns+4] = N[5] - 2 * r2_0\n",
    "    return resid"
   ]
  },
  {
   "cell_type": "markdown",
   "metadata": {},
   "source": [
    "Obtaining the Maxwell-Stefan Diffusivity matrix (Đ) from the Fuller Correlation & use heat transfer correlation for kc:"
   ]
  },
  {
   "cell_type": "code",
   "execution_count": 5,
   "metadata": {},
   "outputs": [
    {
     "name": "stdout",
     "output_type": "stream",
     "text": [
      " kc =  [[1.         0.05865527 0.04826548 0.04372094 0.05002881 0.06814459]\n",
      " [0.05865527 1.         0.04839221 0.04359292 0.05000869 0.06901865]\n",
      " [0.04826548 0.04839221 1.         0.03719887 0.04188688 0.05586451]\n",
      " [0.04372094 0.04359292 0.03719887 1.         0.03737184 0.0513267 ]\n",
      " [0.05002881 0.05000869 0.04188688 0.03737184 1.         0.05913645]\n",
      " [0.06814459 0.06901865 0.05586451 0.0513267  0.05913645 1.        ]]\n",
      " km =  [0.82078737 0.76777628 0.82078737 0.65476181 0.65476181 1.02370171]\n"
     ]
    }
   ],
   "source": [
    "for i in range(ns):\n",
    "    for j in range(ns):\n",
    "        if i == j:\n",
    "            Đ[i, j]  = 1\n",
    "            kc[i, j] = 1\n",
    "        else:\n",
    "            Đ[i, j]  = (α * T**1.75 * np.sqrt((M[i] + M[j]) / (M[i] * M[j]))\n",
    "                        / (P * (V[i]**(1/3) + V[j]**(1/3))**2) )\n",
    "            Sc[i, j] = ν / Đ[i, j]\n",
    "            Sh[i, j] = C * Re**m * Sc[i, j]**0.333\n",
    "            kc[i, j]  = Đ[i, j] * Sh[i, j] / L\n",
    "print(' kc = ', kc)\n",
    "pdoli = pore_dol\n",
    "km[:] = pore_dol * np.sqrt(8*R*1000*T/(9*np.pi*M[:]))\n",
    "print(' km = ', km)"
   ]
  },
  {
   "cell_type": "markdown",
   "metadata": {},
   "source": [
    "Solve the mass (molar) balance down the length of the reactor"
   ]
  },
  {
   "cell_type": "code",
   "execution_count": 6,
   "metadata": {},
   "outputs": [
    {
     "data": {
      "application/vnd.jupyter.widget-view+json": {
       "model_id": "7390dce85dcc4de3a462fac9bb5eca8a",
       "version_major": 2,
       "version_minor": 0
      },
      "text/plain": [
       "interactive(children=(FloatSlider(value=8.63, continuous_update=False, description='$k_1$', layout=Layout(widt…"
      ]
     },
     "metadata": {},
     "output_type": "display_data"
    }
   ],
   "source": [
    "@interact(k1o=FloatSlider(min=.1, max=200, step=.1, value=k1oi, continuous_update=False, readout_format='5.2f', description='$k_1$', layout=Layout(width='80%')),\n",
    "          k2o=FloatSlider(min=.1, max=200, step=.1, value=k2oi, continuous_update=False, readout_format='5.2f', description='$k_2$',layout=Layout(width='80%')),\n",
    "          pore_dol=FloatLogSlider(base=10, min=-5, max=-.5, step=.1, value=pdoli, continuous_update=False, description='$d_{pore}/l_{pore}$',layout=Layout(width='80%')))\n",
    "\n",
    "\n",
    "def call_back(k1o, k2o, pore_dol):\n",
    "    global N, x0, xδ, unknowns, answers, xreactor, flxreactor, tflxreactor, x0reactor, effectiveness, Sh, kc, km, R, T, M\n",
    "\n",
    "    x0[:]          = [.88, .05, .04, .01, .01, .01]  # initial guess...solved below\n",
    "    N[:]           = [0, -.01, -.01, .005, .005, .005]  # initial guess...solved below\n",
    "    km[:]          = pore_dol * np.sqrt(8*R*1000*T/(9*np.pi*M[:]))\n",
    "        \n",
    "    for l in range(1, nl+1):\n",
    "        xδ[:]       = xreactor[:, l-1]        # prescribed boundary condition\n",
    "        unknowns[:ns] = N[:]\n",
    "        unknowns[ns:]  = [x0[1], x0[2],x0[3],x0[4],x0[5]]\n",
    "\n",
    "        # This is where I solve for the fluxes from method 2 with x0[0]=0\n",
    "\n",
    "        answers = fsolve(Res, unknowns, args=(xδ[:], c, a, kc, km, k1o, k2o))\n",
    "        N  = answers[:ns]\n",
    "        x0 = [1-sum(answers[ns:]), answers[ns], answers[ns+1], answers[ns+2], answers[ns+3], answers[ns+4]]\n",
    "\n",
    "    #     print(Res(answers, xδ, c, a, kc))\n",
    "    #     print(N)\n",
    "    #     print(x0)\n",
    "    #     stop\n",
    "\n",
    "        # compute reactor flows for this cell\n",
    "\n",
    "        flxreactor[:, l]  = flxreactor[:, l-1] + dl * a * N[:]\n",
    "        tflxreactor[l]    = np.sum(flxreactor[:, l])\n",
    "        xreactor[:,l]     = flxreactor[:, l] / tflxreactor[l]\n",
    "        yldreactor[l-1]   = flxreactor[3, l] / flxreactor[2, 0]\n",
    "        effectiveness[l-1]= effect\n",
    "        selectivity[l-1]  = select\n",
    "        x0reactor[:, l-1] = x0[:]\n",
    "        Jreactor[:, l-1]  = N[:]\n",
    "\n",
    "        # update heat transfer correlation with new velocity for next cell\n",
    "\n",
    "        u    = tflxreactor[l] / c\n",
    "        Re   = u * L / ν\n",
    "        for i in range(ns):\n",
    "            for j in range(ns):\n",
    "                if i != j:\n",
    "                    Sh[i, j] = C * Re**m * Sc[i, j]**0.333\n",
    "                    kc[i, j]  = Đ[i, j] * Sh[i, j] / L\n",
    "        km[:] = pore_dol * np.sqrt(8*R*1000*T/(9*np.pi*M[:]))\n",
    "\n",
    "    x0reactor[:, -1]  = x0reactor[:, -2]\n",
    "    Jreactor[:, -1]   = Jreactor[:, -2]\n",
    "    effectiveness[-1] = effectiveness[-2]\n",
    "    selectivity[-1]   = selectivity[-2]\n",
    "    yldreactor[-1]    = yldreactor[-2]\n",
    "\n",
    "    # Plot the requested results (mole fraction profile):\n",
    "\n",
    "    print('      (Nominal k1: ', k1oi, ', k2:', k2oi, ', pore diameter/length: {:6.5f} )'.format(pdoli))\n",
    "    print('       Ethylene Oxide final fractional yield: {:4.3f} '.format(yldreactor[-1]))\n",
    "\n",
    "    fig = plt.figure(figsize=(12,8))\n",
    "    for i in range(ns):\n",
    "        p = plt.plot(distance, xreactor[i], linewidth=3, label='{} bulk'.format(spec_names[i]))\n",
    "        plt.plot(distance, x0reactor[i], linewidth=3, linestyle=':', color=p[0].get_color(), label='{} surface'.format(spec_names[i]))\n",
    "    plt.xlim([0, lreactor])\n",
    "    plt.ylim([0, .07])\n",
    "    plt.xlabel('distance down reactor (m)', fontsize=18)\n",
    "    plt.ylabel('mole fraction', fontsize=18)\n",
    "    plt.title('Ethylene Oxide Synthesis', fontsize=20)\n",
    "    plt.legend(fontsize=16, loc='upper right')\n",
    "    # plt.legend(fontsize=16, bbox_to_anchor=(1.1, 1.0))\n",
    "    plt.gca().tick_params(axis='both', which='major', labelsize=14)\n",
    "    plt.gca().twinx()\n",
    "    plt.plot(distance, effectiveness, linewidth=3, linestyle='--', color='grey')\n",
    "    plt.gca().tick_params(axis='y', which='major', labelsize=14, color='grey', labelcolor='grey')\n",
    "    plt.ylabel('effectiveness factor (-)', color='grey', fontsize=18)\n",
    "    _ = plt.savefig('Hwk12x.pdf', transparent=True)\n",
    "    \n",
    "call_back.widget.layout.height = '7in'"
   ]
  },
  {
   "cell_type": "markdown",
   "metadata": {},
   "source": [
    "QED  "
   ]
  }
 ],
 "metadata": {
  "kernelspec": {
   "display_name": "Python 3 (ipykernel)",
   "language": "python",
   "name": "python3"
  },
  "language_info": {
   "codemirror_mode": {
    "name": "ipython",
    "version": 3
   },
   "file_extension": ".py",
   "mimetype": "text/x-python",
   "name": "python",
   "nbconvert_exporter": "python",
   "pygments_lexer": "ipython3",
   "version": "3.7.15"
  }
 },
 "nbformat": 4,
 "nbformat_minor": 4
}
